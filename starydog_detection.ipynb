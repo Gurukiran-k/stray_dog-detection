# import tensorflow as tf
from tensorflow.keras.preprocessing.image import ImageDataGenerator

# Set paths for training and validation datasets
train_dir = '/Users/Guru Kiran/OneDrive/Desktop/jupyter/dataset/train'
val_dir = '/Users/Guru Kiran/OneDrive/Desktop/jupyter/dataset/val'

# Preprocessing for training and validation
train_datagen = ImageDataGenerator(
    rescale=1./255,        # Normalize pixel values
    rotation_range=20,     # Augmentation: rotate images
    width_shift_range=0.2, # Augmentation: shift width
    height_shift_range=0.2, # Augmentation: shift height
    horizontal_flip=True   # Augmentation: flip horizontally
)

val_datagen = ImageDataGenerator(rescale=1./255)  # Validation data doesn't need augmentation

# Load datasets
train_data = train_datagen.flow_from_directory(
    train_dir,
    target_size=(128, 128),  # Resize all images to 128x128
    batch_size=32,
    class_mode='binary'      # Binary classification: breed vs. stray
)

val_data = val_datagen.flow_from_directory(
    val_dir,
    target_size=(128, 128),
    batch_size=32,
    class_mode='binary'
)

